{
 "cells": [
  {
   "cell_type": "markdown",
   "metadata": {},
   "source": [
    "# Upskills clustering\n",
    "\n",
    "A number of experiments on trying to make sense of the ~200 job offers compiled as part of the upskills project. \n",
    "The core idea is trying to organise the kib offers. Since we do not have any annotation, we have opted for carrying out a clustering. Both representations and clustering come from [scikit](https://scikit-learn.org/) (twiking a bit the tokenizer)\n",
    "\n",
    "**Representations**\n",
    "\n",
    "\n",
    "* [TF-IDF](https://scikit-learn.org/stable/modules/generated/sklearn.feature_extraction.text.TfidfVectorizer.html)\n",
    "* [PCA](https://scikit-learn.org/stable/modules/generated/sklearn.decomposition.PCA.html)\n",
    "* [SVD](https://scikit-learn.org/stable/modules/generated/sklearn.decomposition.TruncatedSVD.html#sklearn.decomposition.TruncatedSVD) (LSA)\n",
    "\n",
    "I had considered doc2vec at first, but the computation was taking way too long\n",
    "\n",
    "**Clustering alternatives**\n",
    "* [Birch](https://scikit-learn.org/stable/modules/clustering.html#birch). Requires the number of clusters. \n",
    "* [Afifinity propagation](https://scikit-learn.org/stable/modules/clustering.html#affinity-propagation). Estimates a reasonable number of clusters.\n",
    "* [Meanshift](https://scikit-learn.org/stable/modules/clustering.html#mean-shift).  Estimates a reasonable number of clusters.\n",
    "\n",
    "**Requirements (non-python-standard)**\n",
    "* spacy 3.0. Tokenization, lemmatization\n",
    "* sklearn. Feature computation, clustering\n",
    "* pandas. Dataframes "
   ]
  },
  {
   "cell_type": "code",
   "execution_count": null,
   "metadata": {},
   "outputs": [],
   "source": [
    "# Downloading the model for spacy \n",
    "# RUN ONLY IF YOU DON'T HAVE THE MODELS READY\n",
    "! python3 -m spacy download en_core_web_sm\n",
    "# ! python -V\n",
    "# ! which python\n",
    "# ! pip3 install --upgrade --upgrade-strategy eager sklearn\n",
    "# ! pip3 install --upgrade spacy"
   ]
  },
  {
   "cell_type": "code",
   "execution_count": 1,
   "metadata": {},
   "outputs": [
    {
     "name": "stdout",
     "output_type": "stream",
     "text": [
      "3.0.3\n"
     ]
    }
   ],
   "source": [
    "# checking the version of spacy (don't run)\n",
    "import spacy as kk\n",
    "  \n",
    "# Check the version \n",
    "print(kk.__version__) "
   ]
  },
  {
   "cell_type": "code",
   "execution_count": 55,
   "metadata": {},
   "outputs": [],
   "source": [
    "# import gensim.models as g\n",
    "import os\n",
    "import numpy as np\n",
    "import pandas as pd\n",
    "import xml.etree.ElementTree as ET\n",
    "\n",
    "import spacy \n",
    "\n",
    "# from spacy.tokenizer import Tokenizer\n",
    "# from spacy.lang.en import English\n",
    "\n",
    "from sklearn.decomposition import PCA, TruncatedSVD\n",
    "# from sklearn.feature_extraction.text import CountVectorizer\n",
    "from sklearn.feature_extraction.text import TfidfVectorizer\n",
    "\n",
    "from sklearn.cluster import AffinityPropagation\n",
    "from sklearn.cluster import Birch\n",
    "from sklearn.cluster import MeanShift, estimate_bandwidth\n",
    "\n",
    "from sklearn.decomposition import PCA, TruncatedSVD\n",
    "\n",
    "from sklearn.preprocessing import MinMaxScaler\n",
    "\n",
    "\n",
    "#inference hyper-parameters\n",
    "start_alpha=0.01\n",
    "infer_epoch=1000"
   ]
  },
  {
   "cell_type": "markdown",
   "metadata": {},
   "source": [
    "HERE ARE THE CONSTANTS THAT YOU MIGHT WANT TO MODIFY"
   ]
  },
  {
   "cell_type": "code",
   "execution_count": 17,
   "metadata": {},
   "outputs": [],
   "source": [
    "# the path to the corpus\n",
    "path = \"/Users/albarron/tmp/adriano/txt_raw\"\n",
    "\n",
    "# the number of PCA components (e.g., 2, 20, 100)\n",
    "PCA_COMPONENTS = 100\n",
    "# From when considering to use doc2vec. Not really necessary\n",
    "# model = \"/Users/albarron/corpora/embeddings/doc2vec/enwiki_dbow/doc2vec.bin\"\n",
    "#load model\n",
    "# m = g.Doc2Vec.load(model)"
   ]
  },
  {
   "cell_type": "code",
   "execution_count": 4,
   "metadata": {},
   "outputs": [],
   "source": [
    "def find_files(path):\n",
    "    \"\"\"Loads all the txt files in the path folder and \n",
    "    returns them, with their full path\"\"\"\n",
    "    my_files = []\n",
    "    for root, dirs, files in os.walk(path):\n",
    "        my_files.extend(os.path.join(path, file) for file in files if file.endswith(\".txt\"))\n",
    "    return my_files"
   ]
  },
  {
   "cell_type": "code",
   "execution_count": 5,
   "metadata": {},
   "outputs": [],
   "source": [
    "def extract_xml(file):\n",
    "    \"\"\"Extract the contents from an xml file (which in this \n",
    "    corpus actually have txt extension) and returns it as \n",
    "    a dictionary. \n",
    "    The assumed tags are: 'id', 'jobtitle', 'about', 'jobdesc', \n",
    "    'keyinfo', 'benefits'.\n",
    "    If jobdesc contains internal tags, all their text is simply \n",
    "    merged.\n",
    "    \"\"\"\n",
    "    with open(file) as f:\n",
    "        elements = {}\n",
    "        tree = ET.fromstring(f.read())\n",
    "        elements['id'] = tree.attrib['id']\n",
    "\n",
    "        for child in tree: #ET.fromstring(f.read()):\n",
    "            # elements[child.tag] = child.text\n",
    "            elements[child.tag] = ' '.join(child.itertext()).lower()\n",
    "    return elements"
   ]
  },
  {
   "cell_type": "markdown",
   "metadata": {},
   "source": [
    "## Load all the files into a pandas dataframe"
   ]
  },
  {
   "cell_type": "code",
   "execution_count": 6,
   "metadata": {},
   "outputs": [
    {
     "name": "stdout",
     "output_type": "stream",
     "text": [
      "0       localization editor,\\njapanese\\nlanguages are...\n",
      "1       german; english; applied linguistics; computa...\n",
      "2       english; computational linguistics; general l...\n",
      "3        english; french; computational linguistics; ...\n",
      "4       english; computational linguistics: senior an...\n",
      "                             ...                        \n",
      "193     french canadian linguist - siri tts\\napple is...\n",
      "194      english; german; spanish; applied linguistic...\n",
      "195     french; german; syntax: analytical linguist, ...\n",
      "196     swedish; computational linguistics; lexicogra...\n",
      "197     senior social analyst, data\\noverview\\nthe id...\n",
      "Name: jobtitle_desc, Length: 198, dtype: object\n"
     ]
    }
   ],
   "source": [
    "files = find_files(path)\n",
    "df = pd.DataFrame(\n",
    "    columns=['id', 'jobtitle', 'about', 'jobdesc', 'keyinfo', 'benefits'])\n",
    "\n",
    "for file in files:\n",
    "#     print(file)\n",
    "    d = extract_xml(file)\n",
    "    df = df.append(d, ignore_index=True)\n",
    "\n",
    "# replace empty jobtitles (NAN in a dataframe) with ''\n",
    "df.jobtitle = df.jobtitle.fillna('')\n",
    "# Add a new column combining offer title and description\n",
    "df['jobtitle_desc'] = \" \" + df.jobtitle + '\\n' + df.jobdesc\n",
    "df.set_index('id')\n",
    "# print(df.jobdesc)\n",
    "print(df.jobtitle_desc)"
   ]
  },
  {
   "cell_type": "markdown",
   "metadata": {},
   "source": [
    "## Representations production\n",
    "\n",
    "### Alternative 1: tf-idf"
   ]
  },
  {
   "cell_type": "code",
   "execution_count": 12,
   "metadata": {},
   "outputs": [
    {
     "name": "stdout",
     "output_type": "stream",
     "text": [
      "['this', 'be', 'a', 'very', 'small', 'test', 'try', 'to', 'check', 'if', 'I', 'be', 'or', 'you', 'be', 'actually', 'get', 'lemmas', 'and', 'not', 'token']\n"
     ]
    }
   ],
   "source": [
    "# nlp = English()\n",
    "# tokenizer = Tokenizer(nlp.vocab)\n",
    "\n",
    "# nlp.add_pipe(\"lemmatizer\", config={\"mode\": \"lookup\"})\n",
    "nlp = spacy.load(\"en_core_web_sm\")\n",
    "# config = {\"mode\": \"rule\"}\n",
    "# nlp.add_pipe(\"lemmatizer\", config=config)\n",
    "# This usually happens under the hood\n",
    "# processed = nlp(doc)\n",
    "\n",
    "\n",
    "doc = nlp(\"this is a very small tests trying to check if I am or you are actually getting lemmas and not tokens\")\n",
    "# lemmas = set([w.lemma for w in doc])\n",
    "# tokens = set([w for w in doc])\n",
    "# print (len(lemmas), len(tokens))\n",
    "# print(doc)\n",
    "print([token.lemma_ for token in doc])\n"
   ]
  },
  {
   "cell_type": "code",
   "execution_count": 14,
   "metadata": {},
   "outputs": [
    {
     "name": "stdout",
     "output_type": "stream",
     "text": [
      "Size of the vocabulary: 2317\n",
      "Shape of the matrix: (198, 2317)\n"
     ]
    }
   ],
   "source": [
    "# tfidf_docs = pd.DataFrame(tfidf_docs)\n",
    "# # # centers the vectorized documents (BOW vectors) by subtracting the mean\n",
    "# # tfidf_docs = tfidf_docs - tfidf_docs.mean()\n",
    "\n",
    "def lemmatized_words(doc):\n",
    "    \"\"\"A tokenizer based on spacy to add lemmas to the vector, \n",
    "    rather than tokens. It also ignores sequences of spaces \n",
    "    and 1-character tokens\"\"\"\n",
    "    doc = nlp(doc)\n",
    "    return (w.lemma_ for w in doc if w.lemma_.strip() !=\"\" and len(w.lemma_) > 1)\n",
    "\n",
    "# Without lemmatization; the vocabulary is huge: 75.4k.\n",
    "# lemm_vectorizer = TfidfVectorizer(tokenizer=tokenizer) \n",
    "\n",
    "# With lemmatization; the vocabulary is reasonable < 3k\n",
    "lemm_vectorizer = TfidfVectorizer(\n",
    "    tokenizer=lemmatized_words, # the tokenizer from the function \n",
    "    stop_words='english', \n",
    "    min_df=2)\n",
    "\n",
    "tfidf_docs = lemm_vectorizer.fit_transform(raw_documents=df.jobtitle_desc).toarray()\n",
    "print(\"Size of the vocabulary:\", len(lemm_vectorizer.vocabulary_))\n",
    "\n",
    "tfidf_docs = pd.DataFrame(tfidf_docs)\n",
    "print(\"Shape of the matrix:\", tfidf_docs.shape)\n",
    "\n",
    "# Uncomment if you want to see the features (vocabulary)\n",
    "# print(\"Feature names:\\n\", lemm_vectorizer.get_feature_names())\n",
    "\n",
    "# print(tfidf_docs)"
   ]
  },
  {
   "cell_type": "markdown",
   "metadata": {},
   "source": [
    "## Alternative 2: PCA"
   ]
  },
  {
   "cell_type": "code",
   "execution_count": 19,
   "metadata": {},
   "outputs": [
    {
     "data": {
      "text/html": [
       "<div>\n",
       "<style scoped>\n",
       "    .dataframe tbody tr th:only-of-type {\n",
       "        vertical-align: middle;\n",
       "    }\n",
       "\n",
       "    .dataframe tbody tr th {\n",
       "        vertical-align: top;\n",
       "    }\n",
       "\n",
       "    .dataframe thead th {\n",
       "        text-align: right;\n",
       "    }\n",
       "</style>\n",
       "<table border=\"1\" class=\"dataframe\">\n",
       "  <thead>\n",
       "    <tr style=\"text-align: right;\">\n",
       "      <th></th>\n",
       "      <th>topic0</th>\n",
       "      <th>topic1</th>\n",
       "      <th>topic2</th>\n",
       "      <th>topic3</th>\n",
       "      <th>topic4</th>\n",
       "      <th>topic5</th>\n",
       "      <th>topic6</th>\n",
       "      <th>topic7</th>\n",
       "      <th>topic8</th>\n",
       "      <th>topic9</th>\n",
       "      <th>topic10</th>\n",
       "      <th>topic11</th>\n",
       "      <th>topic12</th>\n",
       "      <th>topic13</th>\n",
       "      <th>topic14</th>\n",
       "      <th>topic15</th>\n",
       "      <th>topic16</th>\n",
       "      <th>topic17</th>\n",
       "      <th>topic18</th>\n",
       "      <th>topic19</th>\n",
       "    </tr>\n",
       "    <tr>\n",
       "      <th>id</th>\n",
       "      <th></th>\n",
       "      <th></th>\n",
       "      <th></th>\n",
       "      <th></th>\n",
       "      <th></th>\n",
       "      <th></th>\n",
       "      <th></th>\n",
       "      <th></th>\n",
       "      <th></th>\n",
       "      <th></th>\n",
       "      <th></th>\n",
       "      <th></th>\n",
       "      <th></th>\n",
       "      <th></th>\n",
       "      <th></th>\n",
       "      <th></th>\n",
       "      <th></th>\n",
       "      <th></th>\n",
       "      <th></th>\n",
       "      <th></th>\n",
       "    </tr>\n",
       "  </thead>\n",
       "  <tbody>\n",
       "    <tr>\n",
       "      <th>Facebook001</th>\n",
       "      <td>-0.739</td>\n",
       "      <td>-0.140</td>\n",
       "      <td>-0.029</td>\n",
       "      <td>-0.298</td>\n",
       "      <td>0.086</td>\n",
       "      <td>-0.097</td>\n",
       "      <td>-0.921</td>\n",
       "      <td>-0.159</td>\n",
       "      <td>0.174</td>\n",
       "      <td>0.017</td>\n",
       "      <td>-0.067</td>\n",
       "      <td>-0.546</td>\n",
       "      <td>0.119</td>\n",
       "      <td>-0.828</td>\n",
       "      <td>-0.267</td>\n",
       "      <td>-0.059</td>\n",
       "      <td>0.412</td>\n",
       "      <td>-1.293</td>\n",
       "      <td>-0.218</td>\n",
       "      <td>0.402</td>\n",
       "    </tr>\n",
       "    <tr>\n",
       "      <th>Linguist014</th>\n",
       "      <td>0.504</td>\n",
       "      <td>-0.772</td>\n",
       "      <td>-0.043</td>\n",
       "      <td>-0.135</td>\n",
       "      <td>-0.570</td>\n",
       "      <td>0.361</td>\n",
       "      <td>-0.030</td>\n",
       "      <td>0.464</td>\n",
       "      <td>0.551</td>\n",
       "      <td>-0.382</td>\n",
       "      <td>0.327</td>\n",
       "      <td>0.045</td>\n",
       "      <td>0.111</td>\n",
       "      <td>-0.290</td>\n",
       "      <td>0.267</td>\n",
       "      <td>0.000</td>\n",
       "      <td>-0.312</td>\n",
       "      <td>-0.156</td>\n",
       "      <td>0.162</td>\n",
       "      <td>0.300</td>\n",
       "    </tr>\n",
       "    <tr>\n",
       "      <th>Linguist028</th>\n",
       "      <td>0.826</td>\n",
       "      <td>-0.059</td>\n",
       "      <td>0.449</td>\n",
       "      <td>-0.100</td>\n",
       "      <td>-0.070</td>\n",
       "      <td>0.978</td>\n",
       "      <td>-1.857</td>\n",
       "      <td>-1.199</td>\n",
       "      <td>-0.666</td>\n",
       "      <td>-1.143</td>\n",
       "      <td>-0.894</td>\n",
       "      <td>0.558</td>\n",
       "      <td>0.544</td>\n",
       "      <td>-0.075</td>\n",
       "      <td>0.038</td>\n",
       "      <td>-1.106</td>\n",
       "      <td>0.412</td>\n",
       "      <td>0.508</td>\n",
       "      <td>-0.277</td>\n",
       "      <td>-0.248</td>\n",
       "    </tr>\n",
       "    <tr>\n",
       "      <th>Linguist029</th>\n",
       "      <td>0.971</td>\n",
       "      <td>-0.068</td>\n",
       "      <td>0.295</td>\n",
       "      <td>-0.180</td>\n",
       "      <td>-0.228</td>\n",
       "      <td>1.131</td>\n",
       "      <td>-1.231</td>\n",
       "      <td>-0.983</td>\n",
       "      <td>-1.063</td>\n",
       "      <td>-1.616</td>\n",
       "      <td>-0.769</td>\n",
       "      <td>1.005</td>\n",
       "      <td>0.614</td>\n",
       "      <td>0.739</td>\n",
       "      <td>0.420</td>\n",
       "      <td>-0.217</td>\n",
       "      <td>0.232</td>\n",
       "      <td>-0.771</td>\n",
       "      <td>-0.917</td>\n",
       "      <td>0.497</td>\n",
       "    </tr>\n",
       "    <tr>\n",
       "      <th>Linguist015</th>\n",
       "      <td>-0.306</td>\n",
       "      <td>-0.476</td>\n",
       "      <td>-1.245</td>\n",
       "      <td>3.051</td>\n",
       "      <td>1.819</td>\n",
       "      <td>0.225</td>\n",
       "      <td>-0.562</td>\n",
       "      <td>-0.439</td>\n",
       "      <td>-0.274</td>\n",
       "      <td>0.208</td>\n",
       "      <td>0.195</td>\n",
       "      <td>-0.427</td>\n",
       "      <td>0.280</td>\n",
       "      <td>0.318</td>\n",
       "      <td>-0.481</td>\n",
       "      <td>-0.313</td>\n",
       "      <td>-0.330</td>\n",
       "      <td>0.432</td>\n",
       "      <td>-0.659</td>\n",
       "      <td>0.146</td>\n",
       "    </tr>\n",
       "    <tr>\n",
       "      <th>Linguist001</th>\n",
       "      <td>1.071</td>\n",
       "      <td>-0.269</td>\n",
       "      <td>0.009</td>\n",
       "      <td>-0.011</td>\n",
       "      <td>-0.400</td>\n",
       "      <td>0.806</td>\n",
       "      <td>-0.168</td>\n",
       "      <td>1.113</td>\n",
       "      <td>-0.048</td>\n",
       "      <td>0.447</td>\n",
       "      <td>-0.069</td>\n",
       "      <td>-0.581</td>\n",
       "      <td>-0.316</td>\n",
       "      <td>0.469</td>\n",
       "      <td>-0.277</td>\n",
       "      <td>-0.262</td>\n",
       "      <td>-0.337</td>\n",
       "      <td>0.051</td>\n",
       "      <td>-0.361</td>\n",
       "      <td>0.289</td>\n",
       "    </tr>\n",
       "  </tbody>\n",
       "</table>\n",
       "</div>"
      ],
      "text/plain": [
       "             topic0  topic1  topic2  topic3  topic4  topic5  topic6  topic7  \\\n",
       "id                                                                            \n",
       "Facebook001  -0.739  -0.140  -0.029  -0.298   0.086  -0.097  -0.921  -0.159   \n",
       "Linguist014   0.504  -0.772  -0.043  -0.135  -0.570   0.361  -0.030   0.464   \n",
       "Linguist028   0.826  -0.059   0.449  -0.100  -0.070   0.978  -1.857  -1.199   \n",
       "Linguist029   0.971  -0.068   0.295  -0.180  -0.228   1.131  -1.231  -0.983   \n",
       "Linguist015  -0.306  -0.476  -1.245   3.051   1.819   0.225  -0.562  -0.439   \n",
       "Linguist001   1.071  -0.269   0.009  -0.011  -0.400   0.806  -0.168   1.113   \n",
       "\n",
       "             topic8  topic9  topic10  topic11  topic12  topic13  topic14  \\\n",
       "id                                                                         \n",
       "Facebook001   0.174   0.017   -0.067   -0.546    0.119   -0.828   -0.267   \n",
       "Linguist014   0.551  -0.382    0.327    0.045    0.111   -0.290    0.267   \n",
       "Linguist028  -0.666  -1.143   -0.894    0.558    0.544   -0.075    0.038   \n",
       "Linguist029  -1.063  -1.616   -0.769    1.005    0.614    0.739    0.420   \n",
       "Linguist015  -0.274   0.208    0.195   -0.427    0.280    0.318   -0.481   \n",
       "Linguist001  -0.048   0.447   -0.069   -0.581   -0.316    0.469   -0.277   \n",
       "\n",
       "             topic15  topic16  topic17  topic18  topic19  \n",
       "id                                                        \n",
       "Facebook001   -0.059    0.412   -1.293   -0.218    0.402  \n",
       "Linguist014    0.000   -0.312   -0.156    0.162    0.300  \n",
       "Linguist028   -1.106    0.412    0.508   -0.277   -0.248  \n",
       "Linguist029   -0.217    0.232   -0.771   -0.917    0.497  \n",
       "Linguist015   -0.313   -0.330    0.432   -0.659    0.146  \n",
       "Linguist001   -0.262   -0.337    0.051   -0.361    0.289  "
      ]
     },
     "execution_count": 19,
     "metadata": {},
     "output_type": "execute_result"
    }
   ],
   "source": [
    "# Scaling the tfidf vectors in [0,1] (recommended for PCA)\n",
    "scaler = MinMaxScaler()\n",
    "tfidf_docs_rescaled = scaler.fit_transform(tfidf_docs)\n",
    "\n",
    "# Computing the PCS with PCA_COMPONENTS\n",
    "pca = PCA(svd_solver = 'full', n_components=PCA_COMPONENTS)\n",
    "pca = pca.fit(tfidf_docs_rescaled)\n",
    "pca_topic_vectors = pca.transform(tfidf_docs_rescaled)\n",
    "\n",
    "columns = ['topic{}'.format(i) for i in range(pca.n_components)]\n",
    "pca_topic_vectors = pd.DataFrame(pca_topic_vectors, columns=columns, index=df.id)\n",
    "pca_topic_vectors.round(3).head(6)"
   ]
  },
  {
   "cell_type": "markdown",
   "metadata": {},
   "source": [
    "## Alternative 3: TruncatedSVD (LSA)"
   ]
  },
  {
   "cell_type": "code",
   "execution_count": 25,
   "metadata": {},
   "outputs": [
    {
     "data": {
      "text/html": [
       "<div>\n",
       "<style scoped>\n",
       "    .dataframe tbody tr th:only-of-type {\n",
       "        vertical-align: middle;\n",
       "    }\n",
       "\n",
       "    .dataframe tbody tr th {\n",
       "        vertical-align: top;\n",
       "    }\n",
       "\n",
       "    .dataframe thead th {\n",
       "        text-align: right;\n",
       "    }\n",
       "</style>\n",
       "<table border=\"1\" class=\"dataframe\">\n",
       "  <thead>\n",
       "    <tr style=\"text-align: right;\">\n",
       "      <th></th>\n",
       "      <th>topic0</th>\n",
       "      <th>topic1</th>\n",
       "      <th>topic2</th>\n",
       "      <th>topic3</th>\n",
       "      <th>topic4</th>\n",
       "      <th>topic5</th>\n",
       "      <th>topic6</th>\n",
       "      <th>topic7</th>\n",
       "      <th>topic8</th>\n",
       "      <th>topic9</th>\n",
       "      <th>...</th>\n",
       "      <th>topic90</th>\n",
       "      <th>topic91</th>\n",
       "      <th>topic92</th>\n",
       "      <th>topic93</th>\n",
       "      <th>topic94</th>\n",
       "      <th>topic95</th>\n",
       "      <th>topic96</th>\n",
       "      <th>topic97</th>\n",
       "      <th>topic98</th>\n",
       "      <th>topic99</th>\n",
       "    </tr>\n",
       "    <tr>\n",
       "      <th>id</th>\n",
       "      <th></th>\n",
       "      <th></th>\n",
       "      <th></th>\n",
       "      <th></th>\n",
       "      <th></th>\n",
       "      <th></th>\n",
       "      <th></th>\n",
       "      <th></th>\n",
       "      <th></th>\n",
       "      <th></th>\n",
       "      <th></th>\n",
       "      <th></th>\n",
       "      <th></th>\n",
       "      <th></th>\n",
       "      <th></th>\n",
       "      <th></th>\n",
       "      <th></th>\n",
       "      <th></th>\n",
       "      <th></th>\n",
       "      <th></th>\n",
       "      <th></th>\n",
       "    </tr>\n",
       "  </thead>\n",
       "  <tbody>\n",
       "    <tr>\n",
       "      <th>Facebook001</th>\n",
       "      <td>1.612</td>\n",
       "      <td>-0.715</td>\n",
       "      <td>-0.102</td>\n",
       "      <td>0.091</td>\n",
       "      <td>-0.315</td>\n",
       "      <td>-0.006</td>\n",
       "      <td>-0.043</td>\n",
       "      <td>-0.893</td>\n",
       "      <td>-0.017</td>\n",
       "      <td>0.211</td>\n",
       "      <td>...</td>\n",
       "      <td>0.553</td>\n",
       "      <td>0.300</td>\n",
       "      <td>0.303</td>\n",
       "      <td>0.019</td>\n",
       "      <td>-0.160</td>\n",
       "      <td>0.015</td>\n",
       "      <td>-0.527</td>\n",
       "      <td>0.116</td>\n",
       "      <td>0.606</td>\n",
       "      <td>-0.120</td>\n",
       "    </tr>\n",
       "    <tr>\n",
       "      <th>Linguist014</th>\n",
       "      <td>1.695</td>\n",
       "      <td>0.583</td>\n",
       "      <td>-0.379</td>\n",
       "      <td>0.441</td>\n",
       "      <td>0.013</td>\n",
       "      <td>-0.785</td>\n",
       "      <td>0.263</td>\n",
       "      <td>-0.062</td>\n",
       "      <td>0.690</td>\n",
       "      <td>0.207</td>\n",
       "      <td>...</td>\n",
       "      <td>0.240</td>\n",
       "      <td>-0.325</td>\n",
       "      <td>0.055</td>\n",
       "      <td>0.003</td>\n",
       "      <td>0.611</td>\n",
       "      <td>0.466</td>\n",
       "      <td>-0.274</td>\n",
       "      <td>0.216</td>\n",
       "      <td>0.078</td>\n",
       "      <td>-0.342</td>\n",
       "    </tr>\n",
       "    <tr>\n",
       "      <th>Linguist028</th>\n",
       "      <td>2.210</td>\n",
       "      <td>0.785</td>\n",
       "      <td>0.336</td>\n",
       "      <td>0.319</td>\n",
       "      <td>-0.110</td>\n",
       "      <td>-0.283</td>\n",
       "      <td>0.985</td>\n",
       "      <td>-1.767</td>\n",
       "      <td>-1.478</td>\n",
       "      <td>0.987</td>\n",
       "      <td>...</td>\n",
       "      <td>-0.249</td>\n",
       "      <td>-0.007</td>\n",
       "      <td>0.025</td>\n",
       "      <td>0.328</td>\n",
       "      <td>0.257</td>\n",
       "      <td>-0.132</td>\n",
       "      <td>0.129</td>\n",
       "      <td>-0.343</td>\n",
       "      <td>0.039</td>\n",
       "      <td>0.228</td>\n",
       "    </tr>\n",
       "    <tr>\n",
       "      <th>Linguist029</th>\n",
       "      <td>2.313</td>\n",
       "      <td>0.920</td>\n",
       "      <td>0.202</td>\n",
       "      <td>0.237</td>\n",
       "      <td>-0.141</td>\n",
       "      <td>-0.537</td>\n",
       "      <td>1.048</td>\n",
       "      <td>-1.181</td>\n",
       "      <td>-1.603</td>\n",
       "      <td>0.708</td>\n",
       "      <td>...</td>\n",
       "      <td>0.200</td>\n",
       "      <td>0.163</td>\n",
       "      <td>0.346</td>\n",
       "      <td>-0.624</td>\n",
       "      <td>-0.424</td>\n",
       "      <td>0.021</td>\n",
       "      <td>0.183</td>\n",
       "      <td>-0.475</td>\n",
       "      <td>-0.255</td>\n",
       "      <td>-0.344</td>\n",
       "    </tr>\n",
       "    <tr>\n",
       "      <th>Linguist015</th>\n",
       "      <td>2.483</td>\n",
       "      <td>-0.438</td>\n",
       "      <td>-1.697</td>\n",
       "      <td>0.804</td>\n",
       "      <td>2.130</td>\n",
       "      <td>2.393</td>\n",
       "      <td>0.431</td>\n",
       "      <td>-0.510</td>\n",
       "      <td>-0.459</td>\n",
       "      <td>-0.134</td>\n",
       "      <td>...</td>\n",
       "      <td>-0.067</td>\n",
       "      <td>0.003</td>\n",
       "      <td>0.305</td>\n",
       "      <td>0.033</td>\n",
       "      <td>0.274</td>\n",
       "      <td>0.475</td>\n",
       "      <td>0.029</td>\n",
       "      <td>-0.498</td>\n",
       "      <td>-0.222</td>\n",
       "      <td>-0.297</td>\n",
       "    </tr>\n",
       "    <tr>\n",
       "      <th>Linguist001</th>\n",
       "      <td>2.057</td>\n",
       "      <td>1.055</td>\n",
       "      <td>-0.118</td>\n",
       "      <td>0.187</td>\n",
       "      <td>0.079</td>\n",
       "      <td>-0.626</td>\n",
       "      <td>0.639</td>\n",
       "      <td>-0.269</td>\n",
       "      <td>0.770</td>\n",
       "      <td>-0.868</td>\n",
       "      <td>...</td>\n",
       "      <td>-0.021</td>\n",
       "      <td>0.401</td>\n",
       "      <td>-0.185</td>\n",
       "      <td>-0.620</td>\n",
       "      <td>0.024</td>\n",
       "      <td>-0.429</td>\n",
       "      <td>-0.010</td>\n",
       "      <td>0.120</td>\n",
       "      <td>-0.121</td>\n",
       "      <td>-0.172</td>\n",
       "    </tr>\n",
       "  </tbody>\n",
       "</table>\n",
       "<p>6 rows × 100 columns</p>\n",
       "</div>"
      ],
      "text/plain": [
       "             topic0  topic1  topic2  topic3  topic4  topic5  topic6  topic7  \\\n",
       "id                                                                            \n",
       "Facebook001   1.612  -0.715  -0.102   0.091  -0.315  -0.006  -0.043  -0.893   \n",
       "Linguist014   1.695   0.583  -0.379   0.441   0.013  -0.785   0.263  -0.062   \n",
       "Linguist028   2.210   0.785   0.336   0.319  -0.110  -0.283   0.985  -1.767   \n",
       "Linguist029   2.313   0.920   0.202   0.237  -0.141  -0.537   1.048  -1.181   \n",
       "Linguist015   2.483  -0.438  -1.697   0.804   2.130   2.393   0.431  -0.510   \n",
       "Linguist001   2.057   1.055  -0.118   0.187   0.079  -0.626   0.639  -0.269   \n",
       "\n",
       "             topic8  topic9  ...  topic90  topic91  topic92  topic93  topic94  \\\n",
       "id                           ...                                                \n",
       "Facebook001  -0.017   0.211  ...    0.553    0.300    0.303    0.019   -0.160   \n",
       "Linguist014   0.690   0.207  ...    0.240   -0.325    0.055    0.003    0.611   \n",
       "Linguist028  -1.478   0.987  ...   -0.249   -0.007    0.025    0.328    0.257   \n",
       "Linguist029  -1.603   0.708  ...    0.200    0.163    0.346   -0.624   -0.424   \n",
       "Linguist015  -0.459  -0.134  ...   -0.067    0.003    0.305    0.033    0.274   \n",
       "Linguist001   0.770  -0.868  ...   -0.021    0.401   -0.185   -0.620    0.024   \n",
       "\n",
       "             topic95  topic96  topic97  topic98  topic99  \n",
       "id                                                        \n",
       "Facebook001    0.015   -0.527    0.116    0.606   -0.120  \n",
       "Linguist014    0.466   -0.274    0.216    0.078   -0.342  \n",
       "Linguist028   -0.132    0.129   -0.343    0.039    0.228  \n",
       "Linguist029    0.021    0.183   -0.475   -0.255   -0.344  \n",
       "Linguist015    0.475    0.029   -0.498   -0.222   -0.297  \n",
       "Linguist001   -0.429   -0.010    0.120   -0.121   -0.172  \n",
       "\n",
       "[6 rows x 100 columns]"
      ]
     },
     "execution_count": 25,
     "metadata": {},
     "output_type": "execute_result"
    }
   ],
   "source": [
    "svd = TruncatedSVD(n_components=100)   #, n_iter=100)\n",
    "scaler = MinMaxScaler()\n",
    "tfidf_docs_rescaled = scaler.fit_transform(tfidf_docs)\n",
    "\n",
    "# Decomposes TF-IDF vectors and transforms them into topic vectors\n",
    "svd_topic_vectors = svd.fit(tfidf_docs_rescaled)\n",
    "svd_topic_vectors = svd.transform(tfidf_docs_rescaled)\n",
    "\n",
    "# print(svd_topic_vectors.shape)\n",
    "columns = ['topic{}'.format(i) for i in range(svd.n_components)]\n",
    "svd_topic_vectors = pd.DataFrame(svd_topic_vectors, columns=columns, index=df.id)\n",
    "\n",
    "# Display the top-6 vectors\n",
    "svd_topic_vectors.round(3).head(6)"
   ]
  },
  {
   "cell_type": "markdown",
   "metadata": {},
   "source": [
    "# Clustering\n",
    "\n",
    "Notice that running every alternative would add the column with the clusters to the df (and would be included in the saved tsv)\n",
    "\n",
    "## Alternative 1: Birch (which requires the number of clusters)"
   ]
  },
  {
   "cell_type": "code",
   "execution_count": 29,
   "metadata": {},
   "outputs": [],
   "source": [
    "def birch(data, k):\n",
    "    \"Produces a clustering with k clusters for the given data\"\n",
    "    brc = Birch(branching_factor=50, n_clusters=k, threshold=0.1, compute_labels=True)\n",
    "    brc.fit(data)\n",
    "\n",
    "    clusters = brc.predict(data)\n",
    "\n",
    "    labels = brc.labels_\n",
    "    return clusters\n",
    "\n",
    "    \n",
    "    # print (\"Clusters: \")\n",
    "#     print (clusters)\n",
    "# print(df.head(10))\n"
   ]
  },
  {
   "cell_type": "markdown",
   "metadata": {},
   "source": [
    "### Birch with tfidf"
   ]
  },
  {
   "cell_type": "code",
   "execution_count": 31,
   "metadata": {},
   "outputs": [],
   "source": [
    "for k in range(1, 21):\n",
    "    clusters = birch(tfidf_docs, k)\n",
    "    df[\".\".join([\"birch\", \"tfidf\", str(k)])] = clusters "
   ]
  },
  {
   "cell_type": "markdown",
   "metadata": {},
   "source": [
    "### Birch with PCA"
   ]
  },
  {
   "cell_type": "code",
   "execution_count": 32,
   "metadata": {},
   "outputs": [],
   "source": [
    "for k in range(1, 21):\n",
    "    clusters = birch(pca_topic_vectors, k)\n",
    "    df[\".\".join([\"birch\", \"pca\", str(k)])] = clusters "
   ]
  },
  {
   "cell_type": "markdown",
   "metadata": {},
   "source": [
    "### Birch with SVD"
   ]
  },
  {
   "cell_type": "code",
   "execution_count": 33,
   "metadata": {},
   "outputs": [],
   "source": [
    "for k in range(1, 21):\n",
    "    clusters = birch(svd_topic_vectors, k)\n",
    "    df[\".\".join([\"birch\", \"svd\", str(k)])] = clusters "
   ]
  },
  {
   "cell_type": "markdown",
   "metadata": {},
   "source": [
    "## Alternative 2: [AffinityPropagation](https://scikit-learn.org/stable/modules/clustering.html#affinity-propagation)"
   ]
  },
  {
   "cell_type": "code",
   "execution_count": 45,
   "metadata": {
    "scrolled": true
   },
   "outputs": [],
   "source": [
    "def aff_propagation(X):\n",
    "    \"\"\"Compute clusters based on Affinity Propagation\"\"\"\n",
    "    af = AffinityPropagation(random_state=None)\n",
    "    af.fit(X)\n",
    "    cluster_centers_indices = af.cluster_centers_indices_\n",
    "    labels = af.labels_\n",
    "\n",
    "    n_clusters_ = len(cluster_centers_indices)\n",
    "\n",
    "    print('Estimated number of clusters: %d' % n_clusters_)\n",
    "    # print(\"Homogeneity: %0.3f\" % metrics.homogeneity_score(labels_true, labels))\n",
    "    # print(\"Completeness: %0.3f\" % metrics.completeness_score(labels_true, labels))\n",
    "    # print(\"V-measure: %0.3f\" % metrics.v_measure_score(labels_true, labels))\n",
    "    # print(\"Adjusted Rand Index: %0.3f\"\n",
    "    #       % metrics.adjusted_rand_score(labels_true, labels))\n",
    "    # print(\"Adjusted Mutual Information: %0.3f\"\n",
    "    #       % metrics.adjusted_mutual_info_score(labels_true, labels))\n",
    "    # print(\"Silhouette Coefficient: %0.3f\"\n",
    "    #       % metrics.silhouette_score(X, labels, metric='sqeuclidean'))\n",
    "    # print(\"Silhouette Coefficient: %0.3f\"\n",
    "    #       % metrics.silhouette_score(X, labels, metric='sqeuclidean'))\n",
    "    print(labels)\n",
    "    return labels\n",
    "#     print(labels)"
   ]
  },
  {
   "cell_type": "markdown",
   "metadata": {},
   "source": [
    "### AffinityPropagation with tfidf"
   ]
  },
  {
   "cell_type": "code",
   "execution_count": 46,
   "metadata": {},
   "outputs": [
    {
     "name": "stdout",
     "output_type": "stream",
     "text": [
      "Estimated number of clusters: 40\n",
      "[ 0 12  1  5 19 24  0  3  7  6 11 25 39 12 24 24  9 31  3  2  9 31 24  3\n",
      "  7 19  3 24  4 16  3 25  5  7 14 13 31  0 33  6 35  4  7  5 31  7 10  7\n",
      " 10 10 23 37 29  0 39  6 35  8  9 10 11 24 10 17 12  9 35 13 13  4 14 34\n",
      " 14 15 16  3 39  0 11  5 10 15  6 15 31  4 21 24 25 17 31 18 31 25 38 15\n",
      " 20 19 23 22 30 15 32 32 21 36  4 20 29 20 18 31  1 26 25 13 21 37 10 31\n",
      " 22 23 36 31 18 29 38 24 31  7 34 38  1 25 26  2 31 37  7 34 27 31  7 23\n",
      " 16 28 12  9 31 27 39 29 29 30 31 34 33 32 21 10 33  8  3 28 24  3  7  2\n",
      "  7 10 20 19 10 16 19 23  4 34 35 25 24 34 24 10 27 36 19 24  5  3 25 38\n",
      " 36 37 24 22 38 39]\n"
     ]
    }
   ],
   "source": [
    "# centers the vectorized documents (BOW vectors) by subtracting the mean\n",
    "X = tfidf_docs\n",
    "X = X - X.mean()\n",
    "clusters = aff_propagation(X)\n",
    "df[\"affprop.tfidf\"] = clusters "
   ]
  },
  {
   "cell_type": "markdown",
   "metadata": {},
   "source": [
    "### AffinityPropagation with PCA"
   ]
  },
  {
   "cell_type": "code",
   "execution_count": 47,
   "metadata": {},
   "outputs": [
    {
     "name": "stdout",
     "output_type": "stream",
     "text": [
      "Estimated number of clusters: 28\n",
      "[ 3  0  6  6  1 24  3 20  2  3  4  3  3 16  0  0  3  3  4 27  2 23  0  4\n",
      "  0  1  4 18  5  0 20  3  6  3  7 16  3  3 23  2 26  3  3  6 23  2  3 23\n",
      " 10 10 16 18  3  3  8  5 26  9 23 10 20  0 10  0  0  2 26 16 16  3  3 27\n",
      "  7  3  0 24 26  3 20  6 24 24 23  3  5  5 16 16  3  0 23 11  5  3 20  3\n",
      "  0 25 12 13 14  3 15 16 17 27  5 24 23  3 11  5  6 21  2 16 17 18  2 14\n",
      " 13 12 27 19  3 23 20  0  3  3 27 20 23  3 21  0  3 18  2 27 22 14  3  2\n",
      "  0 16  0 16  3 22 23  3 26 14 14  3 23 15 23  3 23  9  0 16  0  4  0 27\n",
      " 23 23 24  1 24  0 25 27  5 27 26  3  0 27  0 10  3 27  1  0 27 16  2  3\n",
      " 27 18 18 13 20  3]\n"
     ]
    }
   ],
   "source": [
    "clusters = aff_propagation(pca_topic_vectors)\n",
    "df[\"affprop.pca\"] = clusters "
   ]
  },
  {
   "cell_type": "markdown",
   "metadata": {},
   "source": [
    "### AffinityPropagation with SVD"
   ]
  },
  {
   "cell_type": "code",
   "execution_count": 50,
   "metadata": {},
   "outputs": [
    {
     "name": "stdout",
     "output_type": "stream",
     "text": [
      "Estimated number of clusters: 26\n",
      "[ 1 21  8  3  0 21  8 25  1  1  8  1  1  8 21  8  1  1  2  1  1  8  8  2\n",
      "  8  0  2  1  1  1 25  1  3  1  4  8  8  1  8  1 23  1  1  3  8  1  1 21\n",
      "  6  6  8 24  1  1  5  1 23 20 21  6  8 21  7  8  9 21 23  8  1  8  1 21\n",
      "  4  1  8 21  8  8 21  3  1  1  1  1  1  1  8 21  1  8  1 10 11  1 25  1\n",
      "  1 22 12 21 13  1 14  8 15 21  1  8 21  1 10 11  8 16  1  8 15 24  1 13\n",
      " 21 12  1 17  1  1 25 21  1  1 21 25  1  1 16  8  1 24  1  1 19 13  1 18\n",
      " 21 21  9  8  1 19  1  1  1 13 13  8 21 14  8  8  1 20 21 21  8 21  8  1\n",
      "  8  8  8 22  1  8 22  1  1 21 23  1  8 21 21  7  8  1  1  8  1 21  1 21\n",
      "  1 24 24 21 25  1]\n"
     ]
    }
   ],
   "source": [
    "clusters = aff_propagation(svd_topic_vectors)\n",
    "df[\"affprop.svd\"] = clusters "
   ]
  },
  {
   "cell_type": "markdown",
   "metadata": {},
   "source": [
    "# Alternative 3: [Meanshift](https://scikit-learn.org/stable/modules/clustering.html#mean-shift)"
   ]
  },
  {
   "cell_type": "code",
   "execution_count": 56,
   "metadata": {},
   "outputs": [],
   "source": [
    "def mean_shift(X):\n",
    "    \"\"\"Compute clusters based on Meanshift\"\"\"\n",
    "    # The following bandwidth can be automatically detected using\n",
    "    bandwidth = estimate_bandwidth(X, quantile=0.2, n_samples=500)\n",
    "\n",
    "    ms = MeanShift(bandwidth=bandwidth, bin_seeding=True)\n",
    "    ms.fit(X)\n",
    "    labels = ms.labels_\n",
    "    cluster_centers = ms.cluster_centers_\n",
    "    \n",
    "    labels_unique = np.unique(labels)\n",
    "    n_clusters_ = len(labels_unique)\n",
    "\n",
    "    print(\"number of estimated clusters : %d\" % n_clusters_)\n",
    "    return labels"
   ]
  },
  {
   "cell_type": "markdown",
   "metadata": {},
   "source": [
    "### MeanShift with tfidf"
   ]
  },
  {
   "cell_type": "code",
   "execution_count": 57,
   "metadata": {},
   "outputs": [
    {
     "name": "stdout",
     "output_type": "stream",
     "text": [
      "number of estimated clusters : 1\n"
     ]
    }
   ],
   "source": [
    "X = tfidf_docs\n",
    "X = X - X.mean()\n",
    "clusters = mean_shift(X)\n",
    "df[\"meanshift.tfidf\"] = clusters"
   ]
  },
  {
   "cell_type": "markdown",
   "metadata": {},
   "source": [
    "### MeanShift with PCA"
   ]
  },
  {
   "cell_type": "code",
   "execution_count": 64,
   "metadata": {},
   "outputs": [
    {
     "name": "stdout",
     "output_type": "stream",
     "text": [
      "number of estimated clusters : 6\n"
     ]
    }
   ],
   "source": [
    "clusters = mean_shift(pca_topic_vectors)\n",
    "df[\"meanshift.pca\"] = clusters "
   ]
  },
  {
   "cell_type": "markdown",
   "metadata": {},
   "source": [
    "### MeanShift with SVD"
   ]
  },
  {
   "cell_type": "code",
   "execution_count": 63,
   "metadata": {},
   "outputs": [
    {
     "name": "stdout",
     "output_type": "stream",
     "text": [
      "Estimated number of clusters: 26\n",
      "[ 1 20  7  3  0 20  7 25  1  1  7  1  1  7 20  7  1  1  2  1  1  7  7  2\n",
      "  7  0  2  1  1  1 25  1  3  1  9  7  7  1  7  1 22  1  1  3  7  1  1 20\n",
      "  6  6  7 24  1  1  4  1 22  5 20  6  7 20 23  7  8 20 22  7  1  7  1 20\n",
      "  9  1  7 20  7  7 20  3  1  1  1  1  1  1  7 20  1  7  1 10 12  1 25  1\n",
      "  1 21 15 20 11  1 19  7 14 20  1  7 20  1 10 12  7 13  1  7 14 24  1 11\n",
      " 20 15  1 16  1  1 25 20  1  1 20 25  1  1 13  7  1 24  1  1 18 11  1 17\n",
      " 20 20  8  7  1 18  1  1  1 11 11  7 20 19  7  7  1  5 20 20  7 20  7  1\n",
      "  7  7  7 21  1  7 21  1  1 20 22  1  7 20 20 23  7  1  1  7  1 20  1 20\n",
      "  1 24 24 20 25  1]\n"
     ]
    }
   ],
   "source": [
    "clusters = aff_propagation(svd_topic_vectors)\n",
    "df[\"meanshift.svd\"] = clusters "
   ]
  },
  {
   "cell_type": "code",
   "execution_count": 61,
   "metadata": {
    "scrolled": true
   },
   "outputs": [
    {
     "name": "stdout",
     "output_type": "stream",
     "text": [
      "            id                                           jobtitle  \\\n",
      "0  Facebook001                     localization editor,\\njapanese   \n",
      "1  Linguist014  german; english; applied linguistics; computat...   \n",
      "2  Linguist028  english; computational linguistics; general li...   \n",
      "\n",
      "                                               about  \\\n",
      "0  about the facebook company\\nfacebook's mission...   \n",
      "1                                                NaN   \n",
      "2  we are an equal opportunity employer and value...   \n",
      "\n",
      "                                             jobdesc  \\\n",
      "0  languages are key to our mission of bringing t...   \n",
      "1  description:\\n\\nthis is an exciting opportunit...   \n",
      "2  description:\\n\\nappen is the world's leading i...   \n",
      "\n",
      "                                             keyinfo benefits  \\\n",
      "0                                                         NaN   \n",
      "1  university or organization: nuance communicati...      NaN   \n",
      "2  university or organization: appen\\ndepartment:...      NaN   \n",
      "\n",
      "                                       jobtitle_desc  birch.tfidf.1  \\\n",
      "0   localization editor,\\njapanese\\nlanguages are...              0   \n",
      "1   german; english; applied linguistics; computa...              0   \n",
      "2   english; computational linguistics; general l...              0   \n",
      "\n",
      "   birch.tfidf.2  birch.tfidf.3  ...  birch.svd.16  birch.svd.17  \\\n",
      "0              0              0  ...             6             6   \n",
      "1              1              1  ...             0             0   \n",
      "2              1              1  ...            14            14   \n",
      "\n",
      "   birch.svd.18  birch.svd.19  birch.svd.20  affprop.tfidf  affprop.pca  \\\n",
      "0             6             6             2              0            3   \n",
      "1             2             0             9             11            0   \n",
      "2            14            14            14              1            6   \n",
      "\n",
      "   affprop.svd  meanshift.tfidf  meanshift.pca  \n",
      "0            1                0              0  \n",
      "1           21                0              0  \n",
      "2            8                0              0  \n",
      "\n",
      "[3 rows x 72 columns]\n"
     ]
    }
   ],
   "source": [
    "print(df.head(3))\n",
    "# df.to_csv(\"/\".join([path, \"upskills_clusters.tsv\"]), sep=\"\\t\")"
   ]
  }
 ],
 "metadata": {
  "kernelspec": {
   "display_name": "Python 3",
   "language": "python",
   "name": "python3"
  },
  "language_info": {
   "codemirror_mode": {
    "name": "ipython",
    "version": 3
   },
   "file_extension": ".py",
   "mimetype": "text/x-python",
   "name": "python",
   "nbconvert_exporter": "python",
   "pygments_lexer": "ipython3",
   "version": "3.8.7"
  }
 },
 "nbformat": 4,
 "nbformat_minor": 1
}
