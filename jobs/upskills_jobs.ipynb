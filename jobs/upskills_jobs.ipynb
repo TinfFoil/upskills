{
 "cells": [
  {
   "cell_type": "markdown",
   "metadata": {},
   "source": [
    "# Upskills clustering\n",
    "\n",
    "A number of experiments on trying to make sense of the ~200 job offers compiled as part of the upskills project. \n",
    "The core idea is trying to organise the kib offers. Since we do not have any annotation, we have opted for carrying out a clustering. Both representations and clustering come from [scikit](https://scikit-learn.org/) (twiking a bit the tokenizer)\n",
    "\n",
    "**Representations**\n",
    "\n",
    "\n",
    "* [TF-IDF](https://scikit-learn.org/stable/modules/generated/sklearn.feature_extraction.text.TfidfVectorizer.html)\n",
    "* [PCA](https://scikit-learn.org/stable/modules/generated/sklearn.decomposition.PCA.html)\n",
    "* [SVD](https://scikit-learn.org/stable/modules/generated/sklearn.decomposition.TruncatedSVD.html#sklearn.decomposition.TruncatedSVD) (LSA)\n",
    "\n",
    "I had considered doc2vec at first, but the computation was taking way too long\n",
    "\n",
    "**Clustering alternatives**\n",
    "* [Birch](https://scikit-learn.org/stable/modules/clustering.html#birch). Requires the number of clusters. \n",
    "* [Afifinity propagation](https://scikit-learn.org/stable/modules/clustering.html#affinity-propagation). Estimates the right number of clusters.\n",
    "* [Meanshift](https://scikit-learn.org/stable/modules/clustering.html#mean-shift).  Estimates the right number of clusters.\n",
    "\n",
    "**Requirements (non-python-standard)**\n",
    "* spacy 3.0. Tokenization, lemmatization\n",
    "* sklearn. Feature computation, clustering\n",
    "* pandas. Dataframes "
   ]
  },
  {
   "cell_type": "code",
   "execution_count": null,
   "metadata": {},
   "outputs": [],
   "source": [
    "# Downloading the model for spacy \n",
    "# RUN ONLY IF YOU DON'T HAVE THE MODELS READY\n",
    "! python3 -m spacy download en_core_web_sm\n",
    "# ! python -V\n",
    "# ! which python\n",
    "# ! pip3 install --upgrade --upgrade-strategy eager sklearn\n",
    "# ! pip3 install --upgrade spacy"
   ]
  },
  {
   "cell_type": "code",
   "execution_count": null,
   "metadata": {},
   "outputs": [],
   "source": [
    "import spacy as kk\n",
    "  \n",
    "# Check the version \n",
    "print(kk.__version__) "
   ]
  },
  {
   "cell_type": "code",
   "execution_count": null,
   "metadata": {},
   "outputs": [],
   "source": [
    "# import gensim.models as g\n",
    "import os\n",
    "import pandas as pd\n",
    "import xml.etree.ElementTree as ET\n",
    "\n",
    "from spacy.tokenizer import Tokenizer\n",
    "from spacy.lang.en import English\n",
    "\n",
    "from sklearn.decomposition import PCA, TruncatedSVD\n",
    "# from sklearn.feature_extraction.text import CountVectorizer\n",
    "from sklearn.feature_extraction.text import TfidfVectorizer\n",
    "\n",
    "from sklearn.cluster import AffinityPropagation\n",
    "from sklearn.cluster import Birch\n",
    "from sklearn.cluster import MeanShift\n",
    "\n",
    "from sklearn.decomposition import PCA, TruncatedSVD\n",
    "\n",
    "from sklearn.preprocessing import MinMaxScaler\n",
    "\n",
    "nlp = English()\n",
    "tokenizer = Tokenizer(nlp.vocab)\n",
    "\n",
    "#inference hyper-parameters\n",
    "start_alpha=0.01\n",
    "infer_epoch=1000"
   ]
  },
  {
   "cell_type": "code",
   "execution_count": null,
   "metadata": {},
   "outputs": [],
   "source": [
    "# YOU SHOULD CHANGE THIS PATH TO YOUR LOCAL SETTINGS\n",
    "path = \"/Users/albarron/tmp/adriano/txt_raw\"\n",
    "\n",
    "# From when considering to use doc2vec. Not really necessary\n",
    "# model = \"/Users/albarron/corpora/embeddings/doc2vec/enwiki_dbow/doc2vec.bin\"\n",
    "#load model\n",
    "# m = g.Doc2Vec.load(model)"
   ]
  },
  {
   "cell_type": "code",
   "execution_count": null,
   "metadata": {},
   "outputs": [],
   "source": [
    "def find_files(path):\n",
    "    \"\"\"Loads all the txt files in the path folder and \n",
    "    returns them, with their full path\"\"\"\n",
    "    my_files = []\n",
    "    for root, dirs, files in os.walk(path):\n",
    "        my_files.extend(os.path.join(path, file) for file in files if file.endswith(\".txt\"))\n",
    "    return my_files"
   ]
  },
  {
   "cell_type": "code",
   "execution_count": null,
   "metadata": {},
   "outputs": [],
   "source": [
    "def extract_xml(file):\n",
    "    \"\"\"Extract the contents from an xml file (which in this \n",
    "    corpus actually have txt extension) and returns it as \n",
    "    a dictionary. \n",
    "    The assumed tags are: 'id', 'jobtitle', 'about', 'jobdesc', \n",
    "    'keyinfo', 'benefits'.\n",
    "    If jobdesc contains internal tags, all their text is simply \n",
    "    merged.\n",
    "    \"\"\"\n",
    "    with open(file) as f:\n",
    "        elements = {}\n",
    "        tree = ET.fromstring(f.read())\n",
    "        elements['id'] = tree.attrib['id']\n",
    "\n",
    "        for child in tree: #ET.fromstring(f.read()):\n",
    "            # elements[child.tag] = child.text\n",
    "            elements[child.tag] = ' '.join(child.itertext()).lower()\n",
    "    return elements"
   ]
  },
  {
   "cell_type": "markdown",
   "metadata": {},
   "source": [
    "## Load all the files into a pandas dataframe"
   ]
  },
  {
   "cell_type": "code",
   "execution_count": null,
   "metadata": {},
   "outputs": [],
   "source": [
    "files = find_files(path)\n",
    "df = pd.DataFrame(\n",
    "    columns=['id', 'jobtitle', 'about', 'jobdesc', 'keyinfo', 'benefits'])\n",
    "\n",
    "for file in files:\n",
    "#     print(file)\n",
    "    d = extract_xml(file)\n",
    "    df = df.append(d, ignore_index=True)\n",
    "\n",
    "# replace empty jobtitles (NAN in a dataframe) with ''\n",
    "df.jobtitle = df.jobtitle.fillna('')\n",
    "# Add a new column combining offer title and description\n",
    "df['jobtitle_desc'] = \" \" + df.jobtitle + '\\n' + df.jobdesc\n",
    "df.set_index('id')\n",
    "# print(df.jobdesc)\n",
    "print(df.jobtitle_desc)"
   ]
  },
  {
   "cell_type": "markdown",
   "metadata": {},
   "source": [
    "## Representations production\n",
    "\n",
    "### Alternative 1: tf-idf"
   ]
  },
  {
   "cell_type": "code",
   "execution_count": null,
   "metadata": {},
   "outputs": [],
   "source": [
    "doc = nlp(\"this is a very small tests trying to check if I am or you are actually getting lemmas and not tokens\")\n",
    "lemmas = set([w.lemma for w in doc])\n",
    "tokens = set([w for w in doc])\n",
    "print (len(lemmas), len(tokens))\n",
    "print(doc)\n",
    "nlp.add_pipe(\"lemmatizer\", config={\"mode\": \"lookup\"})\n",
    "# config = {\"mode\": \"rule\"}\n",
    "# nlp.add_pipe(\"lemmatizer\", config=config)\n",
    "# This usually happens under the hood\n",
    "processed = nlp(doc)\n"
   ]
  },
  {
   "cell_type": "code",
   "execution_count": null,
   "metadata": {},
   "outputs": [],
   "source": [
    "# tfidf_docs = pd.DataFrame(tfidf_docs)\n",
    "# # # centers the vectorized documents (BOW vectors) by subtracting the mean\n",
    "# # tfidf_docs = tfidf_docs - tfidf_docs.mean()\n",
    "# import spacy\n",
    "\n",
    "\n",
    "# stemmer = FrenchStemmer()\n",
    "# analyzer = CountVectorizer().build_analyzer()\n",
    "\n",
    "def lemmatized_words(doc):\n",
    "    \"\"\"A tokenizer based on spacy to add lemmas to the vector, \n",
    "    rather than tokens. It also ignores sequences of spaces \n",
    "    and 1-character tokens\"\"\"\n",
    "    doc = nlp(doc)\n",
    "    return (w.lemma_ for w in doc if w.lemma_.strip() !=\"\" and len(w.lemma_) > 1)\n",
    "\n",
    "# Without lemmatization; the vocabulary is huge: 75.4k.\n",
    "# lemm_vectorizer = TfidfVectorizer(tokenizer=tokenizer) \n",
    "\n",
    "# Without lemmatization; the vocabulary is reasonable < 3k\n",
    "lemm_vectorizer = TfidfVectorizer(\n",
    "    tokenizer=lemmatized_words, # the tokenizer from the function \n",
    "    stop_words='english', \n",
    "    min_df=2)\n",
    "\n",
    "tfidf_docs = lemm_vectorizer.fit_transform(raw_documents=df.jobtitle_desc).toarray()\n",
    "print(\"Size of the vocabulary:\", len(lemm_vectorizer.vocabulary_))\n",
    "\n",
    "tfidf_docs = pd.DataFrame(tfidf_docs)\n",
    "print(\"Shape of the matrix:\", tfidf_docs.shape)\n",
    "\n",
    "# Uncomment if you want to see the features (vocabulary)\n",
    "print(\"Feature names:\\n\", lemm_vectorizer.get_feature_names())\n",
    "\n",
    "# print(tfidf_docs)"
   ]
  },
  {
   "cell_type": "markdown",
   "metadata": {},
   "source": [
    "## Alternative 2: PCA"
   ]
  },
  {
   "cell_type": "code",
   "execution_count": null,
   "metadata": {},
   "outputs": [],
   "source": [
    "scaler = MinMaxScaler()\n",
    "tfidf_docs_rescaled = scaler.fit_transform(tfidf_docs)\n",
    "\n",
    "pca = PCA(svd_solver = 'full', n_components=20)\n",
    "pca = pca.fit(tfidf_docs_rescaled)\n",
    "pca_topic_vectors = pca.transform(tfidf_docs_rescaled)\n",
    "\n",
    "columns = ['topic{}'.format(i) for i in range(pca.n_components)]\n",
    "pca_topic_vectors = pd.DataFrame(pca_topic_vectors, columns=columns, index=df.id)\n",
    "pca_topic_vectors.round(3).head(6)"
   ]
  },
  {
   "cell_type": "markdown",
   "metadata": {},
   "source": [
    "## Alternative 3: TruncatedSVD"
   ]
  },
  {
   "cell_type": "code",
   "execution_count": null,
   "metadata": {},
   "outputs": [],
   "source": [
    "svd = TruncatedSVD(n_components=100, n_iter=100)\n",
    "scaler = MinMaxScaler()\n",
    "tfidf_docs_rescaled = scaler.fit_transform(tfidf_docs)\n",
    "\n",
    "# Decomposes TF-IDF vectors and transforms them into topic vectors\n",
    "svd_topic_vectors = svd.fit(tfidf_docs_rescaled)\n",
    "svd_topic_vectors = svd.transform(tfidf_docs_rescaled)\n",
    "# print(svd_topic_vectors.shape)\n",
    "columns = ['topic{}'.format(i) for i in range(svd.n_components)]\n",
    "svd_topic_vectors = pd.DataFrame(svd_topic_vectors, columns=columns, index=df.id)\n",
    "# Same as those produced by PCA\n",
    "svd_topic_vectors.round(3).head(6)"
   ]
  },
  {
   "cell_type": "markdown",
   "metadata": {},
   "source": [
    "# Clustering\n",
    "\n",
    "## Alternative 1: Birch (which requires the number of clusters)"
   ]
  },
  {
   "cell_type": "code",
   "execution_count": null,
   "metadata": {},
   "outputs": [],
   "source": [
    "for k in range(1,21):    \n",
    "    brc = Birch(branching_factor=50, n_clusters=k, threshold=0.1, compute_labels=True)\n",
    "    brc.fit(tfidf_docs)\n",
    "     \n",
    "    clusters = brc.predict(tfidf_docs)\n",
    "     \n",
    "    labels = brc.labels_\n",
    "     \n",
    "    df[str(k)] = clusters \n",
    "    # print (\"Clusters: \")\n",
    "    # print (clusters)\n"
   ]
  },
  {
   "cell_type": "code",
   "execution_count": null,
   "metadata": {},
   "outputs": [],
   "source": [
    "print(df.head(10))\n",
    "df.to_csv(\"/\".join([path, \"upskills_clusters.tsv\"]), sep=\"\\t\")"
   ]
  },
  {
   "cell_type": "markdown",
   "metadata": {},
   "source": [
    "# Trying with [AffinityPropagation](https://scikit-learn.org/stable/modules/clustering.html#affinity-propagation) with tf-idf vectors"
   ]
  },
  {
   "cell_type": "code",
   "execution_count": null,
   "metadata": {
    "scrolled": true
   },
   "outputs": [],
   "source": [
    "# #############################################################################\n",
    "# Compute Affinity Propagation\n",
    "X = tfidf_docs\n",
    "# centers the vectorized documents (BOW vectors) by subtracting the mean\n",
    "X = X - X.mean()\n",
    "\n",
    "af = AffinityPropagation(random_state=None)\n",
    "af.fit(X)\n",
    "cluster_centers_indices = af.cluster_centers_indices_\n",
    "labels = af.labels_\n",
    "\n",
    "n_clusters_ = len(cluster_centers_indices)\n",
    "\n",
    "print('Estimated number of clusters: %d' % n_clusters_)\n",
    "# print(\"Homogeneity: %0.3f\" % metrics.homogeneity_score(labels_true, labels))\n",
    "# print(\"Completeness: %0.3f\" % metrics.completeness_score(labels_true, labels))\n",
    "# print(\"V-measure: %0.3f\" % metrics.v_measure_score(labels_true, labels))\n",
    "# print(\"Adjusted Rand Index: %0.3f\"\n",
    "#       % metrics.adjusted_rand_score(labels_true, labels))\n",
    "# print(\"Adjusted Mutual Information: %0.3f\"\n",
    "#       % metrics.adjusted_mutual_info_score(labels_true, labels))\n",
    "# print(\"Silhouette Coefficient: %0.3f\"\n",
    "#       % metrics.silhouette_score(X, labels, metric='sqeuclidean'))\n",
    "# print(\"Silhouette Coefficient: %0.3f\"\n",
    "#       % metrics.silhouette_score(X, labels, metric='sqeuclidean'))\n",
    "print(labels)"
   ]
  },
  {
   "cell_type": "markdown",
   "metadata": {},
   "source": [
    "# Trying with [AffinityPropagation](https://scikit-learn.org/stable/modules/clustering.html#affinity-propagation) with PCA vectors"
   ]
  },
  {
   "cell_type": "code",
   "execution_count": null,
   "metadata": {
    "scrolled": true
   },
   "outputs": [],
   "source": [
    "# #############################################################################\n",
    "# Compute Affinity Propagation\n",
    "X = pca_topic_vectors\n",
    "af = AffinityPropagation()\n",
    "af.fit(X)\n",
    "cluster_centers_indices = af.cluster_centers_indices_\n",
    "labels = af.labels_\n",
    "\n",
    "n_clusters_ = len(cluster_centers_indices)\n",
    "\n",
    "print('Estimated number of clusters: %d' % n_clusters_)\n",
    "# print(\"Homogeneity: %0.3f\" % metrics.homogeneity_score(labels_true, labels))\n",
    "# print(\"Completeness: %0.3f\" % metrics.completeness_score(labels_true, labels))\n",
    "# print(\"V-measure: %0.3f\" % metrics.v_measure_score(labels_true, labels))\n",
    "# print(\"Adjusted Rand Index: %0.3f\"\n",
    "#       % metrics.adjusted_rand_score(labels_true, labels))\n",
    "# print(\"Adjusted Mutual Information: %0.3f\"\n",
    "#       % metrics.adjusted_mutual_info_score(labels_true, labels))\n",
    "# print(\"Silhouette Coefficient: %0.3f\"\n",
    "#       % metrics.silhouette_score(X, labels, metric='sqeuclidean'))\n",
    "# print(\"Silhouette Coefficient: %0.3f\"\n",
    "#       % metrics.silhouette_score(X, labels, metric='sqeuclidean'))\n",
    "print(labels)"
   ]
  },
  {
   "cell_type": "markdown",
   "metadata": {},
   "source": [
    "# Trying with [AffinityPropagation](https://scikit-learn.org/stable/modules/clustering.html#affinity-propagation) with SVD (LSA) vectors"
   ]
  },
  {
   "cell_type": "code",
   "execution_count": null,
   "metadata": {},
   "outputs": [],
   "source": [
    "# #############################################################################\n",
    "# Compute Affinity Propagation\n",
    "X = svd_topic_vectors\n",
    "af = AffinityPropagation()\n",
    "af.fit(X)\n",
    "cluster_centers_indices = af.cluster_centers_indices_\n",
    "labels = af.labels_\n",
    "\n",
    "n_clusters_ = len(cluster_centers_indices)\n",
    "\n",
    "print('Estimated number of clusters: %d' % n_clusters_)\n",
    "# print(\"Homogeneity: %0.3f\" % metrics.homogeneity_score(labels_true, labels))\n",
    "# print(\"Completeness: %0.3f\" % metrics.completeness_score(labels_true, labels))\n",
    "# print(\"V-measure: %0.3f\" % metrics.v_measure_score(labels_true, labels))\n",
    "# print(\"Adjusted Rand Index: %0.3f\"\n",
    "#       % metrics.adjusted_rand_score(labels_true, labels))\n",
    "# print(\"Adjusted Mutual Information: %0.3f\"\n",
    "#       % metrics.adjusted_mutual_info_score(labels_true, labels))\n",
    "# print(\"Silhouette Coefficient: %0.3f\"\n",
    "#       % metrics.silhouette_score(X, labels, metric='sqeuclidean'))\n",
    "# print(\"Silhouette Coefficient: %0.3f\"\n",
    "#       % metrics.silhouette_score(X, labels, metric='sqeuclidean'))\n",
    "print(labels)\n",
    "\n",
    "for id, cluster in zip(df.id, labels):\n",
    "    print (id, cluster)\n",
    "# print(\"\\t\".join([id, cluster]) for id, cluster in zip (df.id, labels))"
   ]
  },
  {
   "cell_type": "markdown",
   "metadata": {},
   "source": [
    "# Clustering with Meanshift"
   ]
  },
  {
   "cell_type": "code",
   "execution_count": null,
   "metadata": {},
   "outputs": [],
   "source": [
    "cluster_centers_indices"
   ]
  },
  {
   "cell_type": "code",
   "execution_count": null,
   "metadata": {},
   "outputs": [],
   "source": [
    "\n",
    " # Trying with doc2vec \n",
    " # The computation is way to slow and we might need to use the cluster\n",
    " \n",
    "# test_docs=\"data/test_docs.txt\"\n",
    " \n",
    "\n",
    "\n",
    "# load the texts into lists\n",
    "test_ids = []\n",
    "test_docs = []\n",
    "X = []\n",
    "for i, row in df.iterrows():\n",
    "  print(row['id'])\n",
    "  test_ids.append(row['id'])\n",
    "  X.append(\n",
    "      m.infer_vector(\n",
    "          row['jobdesc'].strip().split(),\n",
    "          # [x.strip().split() for x in row['jobdesc']], \n",
    "          alpha=start_alpha, steps=infer_epoch) )\n",
    "      \n",
    "\n",
    "print(X)\n",
    "\n",
    "\n",
    "# test_docs = [ x.strip().split() for x in codecs.open(test_docs, \"r\", \"utf-8\").readlines() ]\n",
    " \n",
    "# print (test_docs)\n",
    "# \"\"\"\n",
    "# [['the', 'cardigan', 'welsh', 'corgi'........\n",
    "# \"\"\"\n",
    " \n",
    "# X=[]\n",
    "# for d in test_docs:\n",
    "     \n",
    "#     X.append( m.infer_vector(d, alpha=start_alpha, steps=infer_epoch) )\n",
    "    \n"
   ]
  },
  {
   "cell_type": "code",
   "execution_count": null,
   "metadata": {},
   "outputs": [],
   "source": [
    "\n",
    " \n",
    "k=3\n",
    " \n",
    " \n",
    "brc = Birch(branching_factor=50, n_clusters=k, threshold=0.1, compute_labels=True)\n",
    "brc.fit(X)\n",
    " \n",
    "clusters = brc.predict(X)\n",
    " \n",
    "labels = brc.labels_\n",
    " \n",
    " \n",
    "print (\"Clusters: \")\n",
    "print (clusters)\n",
    " \n",
    " \n",
    "# silhouette_score = metrics.silhouette_score(X, labels, metric='euclidean')\n",
    " \n",
    "# print (\"Silhouette_score: \")\n",
    "# print (silhouette_score)\n"
   ]
  },
  {
   "cell_type": "markdown",
   "metadata": {},
   "source": [
    "The community has created multiple libraries for pre-processing, which include options for tokenisation. One of the most popular ones is [NLTK](http://www.nltk.org). \n",
    "\n",
    "Before using it, you should install it. If using pip, you should do: \n",
    "\n",
    "\\$ pip install --user -U nltk\n",
    "\n",
    "\\$ pip install --user -U numpy\n",
    "\n",
    "\n",
    "An now we can import and use one of its tokenisers"
   ]
  },
  {
   "cell_type": "code",
   "execution_count": null,
   "metadata": {},
   "outputs": [],
   "source": [
    "from nltk.tokenize import TreebankWordTokenizer # import one of the many tokenizers available\n",
    "tokenizer = TreebankWordTokenizer()             # invoke it \n",
    "tokens = tokenizer.tokenize(txt)\n",
    "print(tokens)"
   ]
  },
  {
   "cell_type": "markdown",
   "metadata": {},
   "source": [
    "Now, see the difference between tokenising with split() and with NLTK's treebank tokeniser on a different sentence."
   ]
  },
  {
   "cell_type": "code",
   "execution_count": null,
   "metadata": {},
   "outputs": [],
   "source": [
    "sentence = \"Monticello wasn't designated as UNESCO World Heritage Site until 1987.\"\n",
    "tokens_split = sentence.split()\n",
    "tokens_tree = tokenizer.tokenize(sentence)\n",
    "\n",
    "print(\"OUTPUT USING split()\\t\\t\", tokens_split)\n",
    "print(\"OUTPUT USING TreebankWordTokenizer\\t\", tokens_tree)"
   ]
  },
  {
   "cell_type": "markdown",
   "metadata": {},
   "source": [
    "## Normalisation\n",
    "\n",
    "### Casefolding"
   ]
  },
  {
   "cell_type": "code",
   "execution_count": null,
   "metadata": {},
   "outputs": [],
   "source": [
    "sentence  = sentence.lower()\n",
    "print(sentence)"
   ]
  },
  {
   "cell_type": "markdown",
   "metadata": {},
   "source": [
    "## Stemming\n",
    "\n",
    "Once again, we can use a regular expression to do stemming"
   ]
  },
  {
   "cell_type": "code",
   "execution_count": null,
   "metadata": {},
   "outputs": [],
   "source": [
    "def stem(phrase):\n",
    "    return ' '.join([re.findall('^(.*ss|.*?)(s)?$',\n",
    "         word)[0][0].strip(\"'\") for word in phrase.lower()\n",
    "         .split()])"
   ]
  },
  {
   "cell_type": "code",
   "execution_count": null,
   "metadata": {},
   "outputs": [],
   "source": [
    "print(\"'houses' \\t\\t->\", stem('houses'))\n",
    "print(\"'Doctor House's calls' \\t->\", stem(\"Doctor House's calls\"))\n",
    "print(\"'stress' \\t\\t->\", stem(\"stress\"))"
   ]
  },
  {
   "cell_type": "markdown",
   "metadata": {},
   "source": [
    "But we would need to include many more expressions to deal with all cases and exceptions.\n",
    "\n",
    "Instead, once again we can rely on a library. Let's consider the **Porter stemmer**, available in NLTK."
   ]
  },
  {
   "cell_type": "code",
   "execution_count": null,
   "metadata": {},
   "outputs": [],
   "source": [
    "from nltk.stem.porter import PorterStemmer # Import the stemmer\n",
    "stemmer = PorterStemmer()                  # invoke the stemmer\n",
    "\n",
    "# Notice that we are \"tokenising\" and stemming in one line\n",
    "x = ' '.join([stemmer.stem(w).strip(\"'\") for w in \"dish washer's washed dishes\".split()])\n",
    "print(x.split())"
   ]
  },
  {
   "cell_type": "markdown",
   "metadata": {},
   "source": [
    "## Lemmatisation\n",
    "\n",
    "This is a more complex process, compared to stemming. Let us go straight to use a library.\n",
    "In this particular case we are going to use NLTK's WordNet lemmatiser. If it is the first time you use it (or you are in an ephemeral environment!), you should download it as follows:"
   ]
  },
  {
   "cell_type": "code",
   "execution_count": null,
   "metadata": {},
   "outputs": [],
   "source": [
    "import nltk \n",
    "nltk.download('wordnet')"
   ]
  },
  {
   "cell_type": "code",
   "execution_count": null,
   "metadata": {},
   "outputs": [],
   "source": [
    "from nltk.stem import WordNetLemmatizer # importing the lemmatiser\n",
    "lemmatizer = WordNetLemmatizer()        # invoking it\n",
    "\n",
    "print(\"'better' alone \\t->\",lemmatizer.lemmatize(\"better\"))\n",
    "print(\"'better' including it's part of speech (adj) \\t->\",lemmatizer.lemmatize(\"better\", pos=\"a\"))"
   ]
  },
  {
   "cell_type": "markdown",
   "metadata": {},
   "source": [
    "## A quick overview on representations\n",
    "\n",
    "### Bag of Words (BoW)\n",
    "\n",
    "First, let us see a simple construction, using a dictionary"
   ]
  },
  {
   "cell_type": "code",
   "execution_count": null,
   "metadata": {},
   "outputs": [],
   "source": [
    "sentence = \"\"\"Thomas Jefferson began building Monticello at the age of 26. Thomas\"\"\"\n",
    "\n",
    "sentence_bow = {}\n",
    "for token in sentence.split():\n",
    "     sentence_bow[token] = 1\n",
    "sorted(sentence_bow.items())\n"
   ]
  },
  {
   "cell_type": "markdown",
   "metadata": {},
   "source": [
    "Another option would be using **pandas**"
   ]
  },
  {
   "cell_type": "code",
   "execution_count": null,
   "metadata": {},
   "outputs": [],
   "source": [
    "import pandas as pd\n",
    "\n",
    "# Loading the corpus\n",
    "sentences = \"\"\"Thomas Jefferson began building Monticello at the age of 26.\\n\"\"\"\n",
    "sentences += \"\"\"Construction was done mostly by local masons and carpenters.\\n\"\"\"\n",
    "sentences += \"He moved into the South Pavilion in 1770.\\n\"\n",
    "sentences += \"\"\"Turning Monticello into a neoclassical masterpiece was Jefferson's obsession.\"\"\"\n",
    "\n",
    "# Loading the tokens into a dictionary (notice that we asume that each line is a document)\n",
    "corpus = {}\n",
    "for i, sent in enumerate(sentences.split('\\n')):\n",
    "    corpus['sent{}'.format(i)] = dict((tok, 1) for tok in\n",
    "         sent.split())\n",
    "\n",
    "# Loading the dictionary contents into a pandas dataframe. \n",
    "df = pd.DataFrame.from_records(corpus).fillna(0).astype(int).T\n",
    "# SEE THE .T, which transposes the matrix for visualisation purposes.\n",
    "\n",
    "\n",
    "df[df.columns[:10]]\n"
   ]
  },
  {
   "cell_type": "markdown",
   "metadata": {},
   "source": [
    "### One-hot vectors\n",
    "\n",
    "This is our input sentence (and its vocabulary)"
   ]
  },
  {
   "cell_type": "code",
   "execution_count": null,
   "metadata": {},
   "outputs": [],
   "source": [
    "import numpy as np\n",
    "sentence = \"Thomas Jefferson began building Monticello at the age of 26.\"\n",
    "token_sequence = str.split(sentence)\n",
    "vocab = sorted(set(token_sequence))\n",
    "print(vocab)"
   ]
  },
  {
   "cell_type": "markdown",
   "metadata": {},
   "source": [
    "And now, we produce the one-hot representation"
   ]
  },
  {
   "cell_type": "code",
   "execution_count": null,
   "metadata": {},
   "outputs": [],
   "source": [
    "num_tokens = len(token_sequence)\n",
    "vocab_size = len(vocab)\n",
    "onehot_vectors = np.zeros((num_tokens, vocab_size), int) # create the |tokens| x |vocabulary size| matrix of zeros \n",
    "for i, word in enumerate(token_sequence):\n",
    "   onehot_vectors[i, vocab.index(word)] = 1  # set one to right dimension to 1\n",
    "\n",
    "print(\"Vocabulary:\\t\", vocab)\n",
    "print(\"Sentence:\\t\", token_sequence)\n",
    "onehot_vectors"
   ]
  },
  {
   "cell_type": "markdown",
   "metadata": {},
   "source": [
    "Let us bring pandas into the game"
   ]
  },
  {
   "cell_type": "code",
   "execution_count": null,
   "metadata": {},
   "outputs": [],
   "source": [
    "pd.DataFrame(onehot_vectors, columns=vocab)"
   ]
  }
 ],
 "metadata": {
  "kernelspec": {
   "display_name": "Python 3",
   "language": "python",
   "name": "python3"
  },
  "language_info": {
   "codemirror_mode": {
    "name": "ipython",
    "version": 3
   },
   "file_extension": ".py",
   "mimetype": "text/x-python",
   "name": "python",
   "nbconvert_exporter": "python",
   "pygments_lexer": "ipython3",
   "version": "3.8.7"
  }
 },
 "nbformat": 4,
 "nbformat_minor": 1
}
